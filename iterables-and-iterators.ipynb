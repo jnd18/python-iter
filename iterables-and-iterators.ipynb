{
 "cells": [
  {
   "cell_type": "markdown",
   "metadata": {},
   "source": [
    "# Iterables, Iterators, and Generators in Python\n",
    "\n",
    "Until recently, I've always been somewhat confused about the exact meanings of and relationships among\n",
    "the three terms *iterable*, *iterator*, and *generator*.\n",
    "So I'm making this notebook as a resource for clarifying this topic, primarily for my own benefit, but I hope it can help others too.\n",
    "\n",
    "First I'll give a short overview of the terms, their meanings, and their relationships to one another.\n",
    "Then I'll dig deeper into each of the three terms.\n",
    "Finally, I'll show some cool things you can do with iterators."
   ]
  },
  {
   "cell_type": "markdown",
   "metadata": {},
   "source": [
    "## Overview\n",
    "\n",
    "#### Iterables\n",
    "An iter**able** is any object you can call `iter` on to produce an iterator.\n",
    "In plainer terms, it's pretty much any object you can loop over with a `for ... in ...` loop.\n",
    "\n",
    "#### Iterators\n",
    "An iter**ator** is an object that you can repeatedly call `next` on to produce values one at a time,\n",
    "perhaps until it runs out of values and raises a `StopIteration` exception.\n",
    "The gist is that iterators are streams of data: they produce values one at time, and they don't store their previous values.\n",
    "By convention, every iterator is also an iterable, and calling `iter` on an iterator returns the same iterator you started with.\n",
    "\n",
    "#### Generators\n",
    "As we'll see below, implementing our own iterators from scratch can be a little more verbose than we might like.\n",
    "Generators are a special case of iterators, but they are meant to be friendlier to write. That's all.\n",
    "There are two kinds of generators: generator functions and generator expressions.\n",
    "Generator functions use function definition syntax to create iterators,\n",
    "while generator expressions use a list comprehension style syntax to create iterators.\n",
    "If you need to write your own iterator, you'll probably use a generator for convenience.\n",
    "\n",
    "#### Recap\n",
    "Calling `iter` on an iterable produces an iterator. Every iterator is itself an iterable,\n",
    "because calling `iter` on an iterator returns that same iterator (`iter` is idempotent).\n",
    "Generators are iterators, and thus they are also iterables. \n",
    "Iterators are streams of data.\n",
    "You can access the next value of an iterator with `next`,\n",
    "but most of the time you'll use a loop or some other higher-level construct."
   ]
  },
  {
   "cell_type": "markdown",
   "metadata": {},
   "source": [
    "## Iterables\n",
    "\n",
    "As I just mentioned, an iterable is anything that produces an iterator when you call `iter` on it.\n",
    "I also said that it is anything you can loop over with `for ... in ...`.\n",
    "I'll show exactly how for loops work in the iterator section.\n",
    "After we've talked about iterators, I can show how to build your own iterables and iterators.\n",
    "Right now, I'll show some examples of iterables.\n",
    "Pretty much any container (list, set, dict) is iterable."
   ]
  },
  {
   "cell_type": "markdown",
   "metadata": {},
   "source": [
    "Here we create a list `x` and then call `iter` on it.\n",
    "We get back a `list_iterator`.\n",
    "This shows that lists are iterable, as we already knew since we loop over them all the time."
   ]
  },
  {
   "cell_type": "code",
   "execution_count": 28,
   "metadata": {},
   "outputs": [
    {
     "data": {
      "text/plain": [
       "<list_iterator at 0x1f2e8d8f518>"
      ]
     },
     "execution_count": 28,
     "metadata": {},
     "output_type": "execute_result"
    }
   ],
   "source": [
    "x = [1, 2, 3]\n",
    "iter(x)"
   ]
  },
  {
   "cell_type": "markdown",
   "metadata": {},
   "source": [
    "Below, we do a similar thing with a set, a dictionary, the items of a dictionary, and a string.\n",
    "`iter` always produces some kind iterator.\n",
    "This also shows that there isn't an iterator type like there is, say, a single `str` type.\n",
    "Rather, anything that acts like an iterator is one.\n",
    "Similarly, there isn't an iterable type; anything that acts like an iterable is one."
   ]
  },
  {
   "cell_type": "code",
   "execution_count": 29,
   "metadata": {},
   "outputs": [
    {
     "data": {
      "text/plain": [
       "<set_iterator at 0x1f2e8d08d80>"
      ]
     },
     "execution_count": 29,
     "metadata": {},
     "output_type": "execute_result"
    }
   ],
   "source": [
    "x = {1, 2, 3}\n",
    "iter(x)"
   ]
  },
  {
   "cell_type": "code",
   "execution_count": 30,
   "metadata": {},
   "outputs": [
    {
     "data": {
      "text/plain": [
       "<dict_keyiterator at 0x1f2e8cf0a98>"
      ]
     },
     "execution_count": 30,
     "metadata": {},
     "output_type": "execute_result"
    }
   ],
   "source": [
    "x = {1:1, 2:2, 3:3}\n",
    "iter(x)"
   ]
  },
  {
   "cell_type": "code",
   "execution_count": 31,
   "metadata": {},
   "outputs": [
    {
     "data": {
      "text/plain": [
       "<dict_itemiterator at 0x1f2e8cf09a8>"
      ]
     },
     "execution_count": 31,
     "metadata": {},
     "output_type": "execute_result"
    }
   ],
   "source": [
    "iter(x.items())"
   ]
  },
  {
   "cell_type": "code",
   "execution_count": 32,
   "metadata": {},
   "outputs": [
    {
     "data": {
      "text/plain": [
       "<str_iterator at 0x1f2e8d8f710>"
      ]
     },
     "execution_count": 32,
     "metadata": {},
     "output_type": "execute_result"
    }
   ],
   "source": [
    "x = \"abc\"\n",
    "iter(x)"
   ]
  },
  {
   "cell_type": "markdown",
   "metadata": {},
   "source": [
    "We also see that iterators are themselves iterable.\n",
    "And that calling `iter` does nothing, as promised."
   ]
  },
  {
   "cell_type": "code",
   "execution_count": 34,
   "metadata": {},
   "outputs": [
    {
     "data": {
      "text/plain": [
       "True"
      ]
     },
     "execution_count": 34,
     "metadata": {},
     "output_type": "execute_result"
    }
   ],
   "source": [
    "x = [1, 2, 3]\n",
    "y = iter(x)\n",
    "z = iter(y)\n",
    "y is z"
   ]
  },
  {
   "cell_type": "markdown",
   "metadata": {},
   "source": [
    "## Iterators\n",
    "\n",
    "Okay, here's where things get a little more interesting.\n",
    "Let's make some iterators and show how to get data from them using `next`.\n",
    "\n",
    "\n",
    "Below, I made a small list, `x`, and called `iter` on it to produce a `list_iterator`, `y`.\n",
    "Calling `next` on `y` repeatedly returns the values from `x`, in order, and then raises a `StopIteration` exception."
   ]
  },
  {
   "cell_type": "code",
   "execution_count": 35,
   "metadata": {},
   "outputs": [],
   "source": [
    "x = [1, 2, 3]\n",
    "y = iter(x)"
   ]
  },
  {
   "cell_type": "code",
   "execution_count": 36,
   "metadata": {},
   "outputs": [
    {
     "data": {
      "text/plain": [
       "1"
      ]
     },
     "execution_count": 36,
     "metadata": {},
     "output_type": "execute_result"
    }
   ],
   "source": [
    "next(y)"
   ]
  },
  {
   "cell_type": "code",
   "execution_count": 37,
   "metadata": {},
   "outputs": [
    {
     "data": {
      "text/plain": [
       "2"
      ]
     },
     "execution_count": 37,
     "metadata": {},
     "output_type": "execute_result"
    }
   ],
   "source": [
    "next(y)"
   ]
  },
  {
   "cell_type": "code",
   "execution_count": 39,
   "metadata": {},
   "outputs": [
    {
     "data": {
      "text/plain": [
       "3"
      ]
     },
     "execution_count": 39,
     "metadata": {},
     "output_type": "execute_result"
    }
   ],
   "source": [
    "next(y)"
   ]
  },
  {
   "cell_type": "code",
   "execution_count": 41,
   "metadata": {},
   "outputs": [
    {
     "ename": "StopIteration",
     "evalue": "",
     "output_type": "error",
     "traceback": [
      "\u001b[1;31m---------------------------------------------------------------------------\u001b[0m",
      "\u001b[1;31mStopIteration\u001b[0m                             Traceback (most recent call last)",
      "\u001b[1;32m<ipython-input-41-81b9d2f0f16a>\u001b[0m in \u001b[0;36m<module>\u001b[1;34m\u001b[0m\n\u001b[1;32m----> 1\u001b[1;33m \u001b[0mnext\u001b[0m\u001b[1;33m(\u001b[0m\u001b[0my\u001b[0m\u001b[1;33m)\u001b[0m\u001b[1;33m\u001b[0m\u001b[1;33m\u001b[0m\u001b[0m\n\u001b[0m",
      "\u001b[1;31mStopIteration\u001b[0m: "
     ]
    }
   ],
   "source": [
    "next(y)"
   ]
  },
  {
   "cell_type": "markdown",
   "metadata": {},
   "source": [
    "So, if we wanted to loop over all the values from an iterator and print them, we could do something like this:"
   ]
  },
  {
   "cell_type": "code",
   "execution_count": 42,
   "metadata": {},
   "outputs": [
    {
     "name": "stdout",
     "output_type": "stream",
     "text": [
      "1\n",
      "2\n",
      "3\n"
     ]
    }
   ],
   "source": [
    "x = [1, 2, 3]\n",
    "y = iter(x)\n",
    "while True:\n",
    "    try:\n",
    "        print(next(y))\n",
    "    except StopIteration:\n",
    "        break"
   ]
  },
  {
   "cell_type": "markdown",
   "metadata": {},
   "source": [
    "We see that the code above prints `1, 2, 3` and then halts successfully.\n",
    "\n",
    "In fact, this is basically how a for loop works!\n",
    "When we write `for i in x`, where `x` is an iterable, a few things happen:\n",
    "1. Python calls `iter` on `x` to produce an iterator.\n",
    "2. Then Python repeatedly calls `next` on that iterator to produce values one by one.\n",
    "3. Finally, Python catches any `StopIteration` exception that is raised,\n",
    "and uses that as the signal that the iterator is exhausted and the loop should end.\n",
    "\n",
    "\n",
    "So, whenever you write a basic for loop you're utilizing iterables, iterators, and exception handling!\n",
    "This also makes it clear why it's convenient to be able to call `iter` on an iterator.\n",
    "This way we can loop directly over an iterator.\n",
    "\n",
    "As one final note for this section, the step where we call `iter` on an iterable is important, since iterables do not have to be iterators!"
   ]
  },
  {
   "cell_type": "code",
   "execution_count": 119,
   "metadata": {},
   "outputs": [
    {
     "ename": "TypeError",
     "evalue": "'list' object is not an iterator",
     "output_type": "error",
     "traceback": [
      "\u001b[1;31m---------------------------------------------------------------------------\u001b[0m",
      "\u001b[1;31mTypeError\u001b[0m                                 Traceback (most recent call last)",
      "\u001b[1;32m<ipython-input-119-4a6488f07b8e>\u001b[0m in \u001b[0;36m<module>\u001b[1;34m\u001b[0m\n\u001b[1;32m----> 1\u001b[1;33m \u001b[0mnext\u001b[0m\u001b[1;33m(\u001b[0m\u001b[1;33m[\u001b[0m\u001b[1;36m1\u001b[0m\u001b[1;33m,\u001b[0m \u001b[1;36m2\u001b[0m\u001b[1;33m,\u001b[0m \u001b[1;36m3\u001b[0m\u001b[1;33m]\u001b[0m\u001b[1;33m)\u001b[0m\u001b[1;33m\u001b[0m\u001b[1;33m\u001b[0m\u001b[0m\n\u001b[0m",
      "\u001b[1;31mTypeError\u001b[0m: 'list' object is not an iterator"
     ]
    }
   ],
   "source": [
    "next([1, 2, 3])"
   ]
  },
  {
   "cell_type": "markdown",
   "metadata": {},
   "source": [
    "## Writing Your Own Iterables and Iterators\n",
    "\n",
    "So far I've just shown examples of iterables and iterators arising from the basic container types in Python.\n",
    "Now I'll show how create your own iterables and iterators.\n",
    "\n",
    "As I've said so many times now, an iterable is something that produces an iterator when `iter` is called on it.\n",
    "So if we're writing a class, and we want it to be iterable, we just need to make sure `iter` works the way we want on our class.\n",
    "There are two ways to do this.\n",
    "The most direct way is to implement the `__iter__` method inside the class.\n",
    "This directly corresponds to the `iter` function.\n",
    "\n",
    "\n",
    "The other way is to implement the `__getitem__` method.\n",
    "`x.__getitem__(i)` directly corresponds to `x[i]`.\n",
    "If we've implemented `__getitem__`, then calling `iter` will try to create an iterator by feeding in the indices\n",
    "`0, 1, 2, ...` to `__getitem__` and will raise a `StopIteration` exception when `__getitem__` raises an `IndexError`.\n",
    "\n",
    "\n",
    "Of course, we can't really make an iterable if we don't know how to make an iterator.\n",
    "So let's discuss that quickly.\n",
    "Just like `iter` and `__iter__`, we can define how the `next` function works for a class by implementing the `__next__` method.\n",
    "We just need to make sure that `__next__` raises `StopIteration` when (and if) we want the iterator to stop.\n",
    "That's really all there is to it.\n",
    "\n",
    "\n",
    "Okay, I know that was a lot, but now we're ready to go!\n",
    "\n",
    "\n",
    "First, let's produce a simple iterable that when iterated over produces the numbers `0` to `n - 1`, like `range`."
   ]
  },
  {
   "cell_type": "code",
   "execution_count": 58,
   "metadata": {},
   "outputs": [
    {
     "name": "stdout",
     "output_type": "stream",
     "text": [
      "0\n",
      "1\n",
      "2\n",
      "3\n",
      "4\n"
     ]
    }
   ],
   "source": [
    "class RangeIterable:\n",
    "    \"\"\"Iterable that works like range.\"\"\"\n",
    "    \n",
    "    def __init__(self, n):\n",
    "        self.n = n\n",
    "    \n",
    "    def __iter__(self):\n",
    "        return RangeIterator(self.n)\n",
    "    \n",
    "class RangeIterator:\n",
    "    \"\"\"Iterator that produces 0 to n - 1\"\"\"\n",
    "    \n",
    "    def __init__(self, n):\n",
    "        self.n = n\n",
    "        self.state = 0\n",
    "        \n",
    "    def __next__(self):\n",
    "        if self.state < self.n:\n",
    "            value = self.state\n",
    "            self.state += 1\n",
    "            return value\n",
    "        else:\n",
    "            raise StopIteration\n",
    "        \n",
    "for i in RangeIterable(5):\n",
    "    print(i)"
   ]
  },
  {
   "cell_type": "markdown",
   "metadata": {},
   "source": [
    "Above, we have the two classes we need to make this work:\n",
    "an iterable class and an iterator class.\n",
    "The iterable class implements `__iter__`, and the iterator class implements `__next__`.\n",
    "We can see that the for loop works exactly as expected!\n",
    "There, that wasn't so bad, was it?\n",
    "\n",
    "If we want to adhere to best practices, our iterator should also implement `__iter__`.\n",
    "So let's make that change now.\n",
    "\n",
    "First we show that `RangeIterator` is currently not iterable."
   ]
  },
  {
   "cell_type": "code",
   "execution_count": 59,
   "metadata": {},
   "outputs": [
    {
     "ename": "TypeError",
     "evalue": "'RangeIterator' object is not iterable",
     "output_type": "error",
     "traceback": [
      "\u001b[1;31m---------------------------------------------------------------------------\u001b[0m",
      "\u001b[1;31mTypeError\u001b[0m                                 Traceback (most recent call last)",
      "\u001b[1;32m<ipython-input-59-7bfbb8651eb1>\u001b[0m in \u001b[0;36m<module>\u001b[1;34m\u001b[0m\n\u001b[1;32m----> 1\u001b[1;33m \u001b[1;32mfor\u001b[0m \u001b[0mi\u001b[0m \u001b[1;32min\u001b[0m \u001b[0mRangeIterator\u001b[0m\u001b[1;33m(\u001b[0m\u001b[1;36m5\u001b[0m\u001b[1;33m)\u001b[0m\u001b[1;33m:\u001b[0m\u001b[1;33m\u001b[0m\u001b[1;33m\u001b[0m\u001b[0m\n\u001b[0m\u001b[0;32m      2\u001b[0m     \u001b[0mprint\u001b[0m\u001b[1;33m(\u001b[0m\u001b[0mi\u001b[0m\u001b[1;33m)\u001b[0m\u001b[1;33m\u001b[0m\u001b[1;33m\u001b[0m\u001b[0m\n",
      "\u001b[1;31mTypeError\u001b[0m: 'RangeIterator' object is not iterable"
     ]
    }
   ],
   "source": [
    "for i in RangeIterator(5):\n",
    "    print(i)"
   ]
  },
  {
   "cell_type": "markdown",
   "metadata": {},
   "source": [
    "Now we fix that and show that we can loop over it."
   ]
  },
  {
   "cell_type": "code",
   "execution_count": 60,
   "metadata": {},
   "outputs": [
    {
     "name": "stdout",
     "output_type": "stream",
     "text": [
      "0\n",
      "1\n",
      "2\n",
      "3\n",
      "4\n"
     ]
    }
   ],
   "source": [
    "class RangeIterator:\n",
    "    \"\"\"Iterator that produces 0 to n - 1\"\"\"\n",
    "    \n",
    "    def __init__(self, n):\n",
    "        self.n = n\n",
    "        self.state = 0\n",
    "        \n",
    "    def __next__(self):\n",
    "        if self.state < self.n:\n",
    "            value = self.state\n",
    "            self.state += 1\n",
    "            return value\n",
    "        else:\n",
    "            raise StopIteration\n",
    "            \n",
    "    def __iter__(self):\n",
    "        return self\n",
    "    \n",
    "for i in RangeIterator(5):\n",
    "    print(i)"
   ]
  },
  {
   "cell_type": "markdown",
   "metadata": {},
   "source": [
    "Now, since we can loop directly over the `RangeIterator`, you might be wondering why we even need the `RangeIterable` class.\n",
    "The answer is, we don't need it!\n",
    "But there is something crucial to understand here.\n",
    "One `RangeIterable` can produce an unlimited supply of `RangeIterator`s, since everytime we call `iter` we get a new iterator.\n",
    "This means we can repeatedly loop over it.\n",
    "A single `RangeIterator` is only good for one loop before it's spent.\n",
    "Calling `iter` on an iterator does not make a new iterator.\n",
    "Observe."
   ]
  },
  {
   "cell_type": "code",
   "execution_count": 55,
   "metadata": {},
   "outputs": [
    {
     "name": "stdout",
     "output_type": "stream",
     "text": [
      "Loop 1:\n",
      "0\n",
      "1\n",
      "2\n",
      "3\n",
      "4\n",
      "Loop 2:\n",
      "0\n",
      "1\n",
      "2\n",
      "3\n",
      "4\n"
     ]
    }
   ],
   "source": [
    "x = RangeIterable(5)\n",
    "\n",
    "print(\"Loop 1:\")\n",
    "for i in x:\n",
    "    print(i)\n",
    "    \n",
    "print(\"Loop 2:\")\n",
    "for i in x:\n",
    "    print(i)"
   ]
  },
  {
   "cell_type": "code",
   "execution_count": 56,
   "metadata": {},
   "outputs": [
    {
     "name": "stdout",
     "output_type": "stream",
     "text": [
      "Loop 1:\n",
      "0\n",
      "1\n",
      "2\n",
      "3\n",
      "4\n",
      "Loop 2:\n"
     ]
    }
   ],
   "source": [
    "x = RangeIterator(5)\n",
    "\n",
    "print(\"Loop 1:\")\n",
    "for i in x:\n",
    "    print(i)\n",
    "    \n",
    "print(\"Loop 2:\")\n",
    "for i in x:\n",
    "    print(i)"
   ]
  },
  {
   "cell_type": "markdown",
   "metadata": {},
   "source": [
    "The `RangeIterator` doesn't produce any values in the second loop.\n",
    "This is something you have to be careful with when using iterators.\n",
    "So, while it is generally true that we don't need to make a separate iterable class to accompany our iterator,\n",
    "it can be nice if you need to loop over the same object more than once.\n",
    "\n",
    "\n",
    "Before we move on to generators, I want to quickly show how implementing `__getitem__` affects `iter`.\n",
    "\n",
    "Any class that implements `__getitem__` in a 0-based sequence style is automatically iterable.\n",
    "Below, I've re-implemented the `RangeIterable` class using `__getitem__` instead of `__iter__`.\n",
    "In this particular case, this implementation ends up being very simple.\n",
    "Now Python handles making the iterator for us by feeding in indices `0, 1, 2, ...`  to `__getitem__` and stoping when `__getitem__` raises an `IndexError`."
   ]
  },
  {
   "cell_type": "code",
   "execution_count": 64,
   "metadata": {},
   "outputs": [
    {
     "name": "stdout",
     "output_type": "stream",
     "text": [
      "0\n",
      "1\n",
      "2\n",
      "3\n",
      "4\n"
     ]
    }
   ],
   "source": [
    "class RangeIterable:\n",
    "    \n",
    "    def __init__(self, n):\n",
    "        self.n = n\n",
    "        \n",
    "    def __getitem__(self, i):\n",
    "        if i < self.n:\n",
    "            return i\n",
    "        else:\n",
    "            raise IndexError\n",
    "            \n",
    "for i in RangeIterable(5):\n",
    "    print(i)"
   ]
  },
  {
   "cell_type": "markdown",
   "metadata": {},
   "source": [
    "Note that implementing `__iter__` overrides this relationship between `__getitem__` and `iter` as this next code snippet shows."
   ]
  },
  {
   "cell_type": "code",
   "execution_count": 65,
   "metadata": {},
   "outputs": [
    {
     "name": "stdout",
     "output_type": "stream",
     "text": [
      "a\n",
      "b\n",
      "c\n"
     ]
    }
   ],
   "source": [
    "class RangeIterable:\n",
    "    \n",
    "    def __init__(self, n):\n",
    "        self.n = n\n",
    "        \n",
    "    def __getitem__(self, i):\n",
    "        if i < self.n:\n",
    "            return i\n",
    "        else:\n",
    "            raise IndexError\n",
    "\n",
    "    def __iter__(self):\n",
    "        return iter(\"abc\")\n",
    "    \n",
    "for i in RangeIterable(5):\n",
    "    print(i)"
   ]
  },
  {
   "cell_type": "markdown",
   "metadata": {},
   "source": [
    "## Generators\n",
    "\n",
    "Okay, so now we've seen how to make any iterable or iterator our hearts desire.\n",
    "But the approaches we've seen so far tend to be somewhat verbose.\n",
    "Wouldn't it be nice if there were a concise, lightweight way to define new iterators?\n",
    "Generators are the solution we want!\n",
    "\n",
    "There are actually two fairly unrelated things that are both called generators.\n",
    "Both of them are much more concise than class-based iterators.\n",
    "The first kind of generator we'll cover is called a generator function.\n",
    "After that, we'll look at generator expressions."
   ]
  },
  {
   "cell_type": "markdown",
   "metadata": {},
   "source": [
    "#### Generator Functions\n",
    "A generator function is just like an ordinary function, except we use the `yield` keyword where we might otherwise use `return` or append to a list.\n",
    "Generator functions are very concise compared to making a class-based iterator.\n",
    "The savings in typing should be obvious, so instead I'll focus on the differences between generator functions and ordinary functions.\n",
    "\n",
    "For example, compare the following two functions. The first creates a list of all the squares from `0` to `(n - 1) ** 2`.\n",
    "The second is a generator function that returns an iterator that produces the same values.\n",
    "Besides avoiding a little bit of boilerplate, the generator function has the advantages that \n",
    "we don't need to construct the whole list of squares before beginning to iterate, nor do we need to store all the squares in memory.\n",
    "But as we mentioned previously, the iterator can only be iterated over once, whereas the list returned from the first function can be iterated\n",
    "over as many times as we please."
   ]
  },
  {
   "cell_type": "code",
   "execution_count": 88,
   "metadata": {},
   "outputs": [
    {
     "name": "stdout",
     "output_type": "stream",
     "text": [
      "list:\n",
      "5\n",
      "5\n",
      "generator:\n",
      "5\n",
      "0\n"
     ]
    }
   ],
   "source": [
    "def squares_lst(n):\n",
    "    lst = []\n",
    "    for i in range(n):\n",
    "        lst.append(i ** 2)\n",
    "    return lst\n",
    "\n",
    "def squares_gen(n):\n",
    "    for i in range(n):\n",
    "        yield i ** 2\n",
    "        \n",
    "x = squares_lst(3)\n",
    "y = squares_gen(3)\n",
    "\n",
    "\n",
    "# sum is 0 + 1 + 4 = 5\n",
    "# list can be summed more than once\n",
    "print(\"list:\")\n",
    "print(sum(x))\n",
    "print(sum(x))\n",
    "\n",
    "# generator is an iterator and is gone after being summed once\n",
    "print(\"generator:\")\n",
    "print(sum(y))\n",
    "print(sum(y))"
   ]
  },
  {
   "cell_type": "markdown",
   "metadata": {},
   "source": [
    "Although it may be intuitively obvious what is happening, let's take a moment to discuss how the generator functions work.\n",
    "When a generator function is called, it returns an iterator.\n",
    "When we ask for a value from that iterator, we enter the function body and proceed until the first `yield` statement.\n",
    "Whatever is `yield`ed is the first value of that iterator.\n",
    "With an ordinary function, the environment inside the function body is destroyed upon `return`ing a value.\n",
    "But with a generator function, we save the environment for later use.\n",
    "Next time we need a value from the iterator, we go back to the same environment and proceed until we reach another `yield` statement.\n",
    "This continues until the generator function `return`s any value (it doesn't matter what value is returned),\n",
    "if ever, and then the iterator raises a `StopIteration` exception.\n",
    "In the generator function example above, there is an implicit `return None` after the end of the for loop,\n",
    "since every function without a `return` statement implicitly has `return None` at the very end of the function body.\n",
    "\n",
    "In short, generator functions run until a `yield` statment and then save their state and pause until we ask for the next value.\n",
    "This continues until a `return` statement. \n",
    "\n",
    "Generator functions are a great way write concise iterators.\n",
    "They are also a nice way to save memory and possibly increase speed as compared to an ordinary function that would build up one big data structure.\n",
    "Finally, generator functions (and iterators more generally) allow you to work with infinite streams of data,\n",
    "where it would be impossible to first load all the data before processing.\n"
   ]
  },
  {
   "cell_type": "markdown",
   "metadata": {},
   "source": [
    "#### Generator Expressions\n",
    "The second kind of generator is called a generator expression.\n",
    "A generator expression has the exact same syntax as a list comprehension, except the outer `[` and `]` are replaced by parentheses.\n",
    "Instead of producing a list, the generator expression produces an iterator.\n",
    "Though not as widely applicable, generator expressions tend to be even more concise than generator functions.\n",
    "The main benefits over list comprehensions are much less memory usage, and possibly some speed enhancements.\n",
    "The downside, once again, is that a generator expression can only be iterated over once before being exhausted.\n",
    "See the example below."
   ]
  },
  {
   "cell_type": "code",
   "execution_count": 87,
   "metadata": {},
   "outputs": [
    {
     "name": "stdout",
     "output_type": "stream",
     "text": [
      "list:\n",
      "285\n",
      "285\n",
      "generator:\n",
      "285\n",
      "0\n"
     ]
    }
   ],
   "source": [
    "lst = [x ** 2 for x in range(10)]\n",
    "gen = (x ** 2 for x in range(10))\n",
    "\n",
    "# the list can be summed over more than once\n",
    "print(\"list:\")\n",
    "print(sum(lst))\n",
    "print(sum(lst))\n",
    "\n",
    "# the generator can only be summed over once\n",
    "# then the empty sum is 0\n",
    "print(\"generator:\")\n",
    "print(sum(gen))\n",
    "print(sum(gen))"
   ]
  },
  {
   "cell_type": "markdown",
   "metadata": {},
   "source": [
    "Of course, if you're immediately going to consume the values in a for loop or `sum` or other function,\n",
    "then there's usually no reason to prefer the list comprehension over the generator expression.\n",
    "And, if you're placing the generator expression directly inside the parentheses of a function call,\n",
    "you can omit one set of parentheses, which looks quite nice."
   ]
  },
  {
   "cell_type": "code",
   "execution_count": 92,
   "metadata": {},
   "outputs": [
    {
     "data": {
      "text/plain": [
       "285"
      ]
     },
     "execution_count": 92,
     "metadata": {},
     "output_type": "execute_result"
    }
   ],
   "source": [
    "# generator expression inside function call\n",
    "sum((x ** 2 for x in range(10)))"
   ]
  },
  {
   "cell_type": "code",
   "execution_count": 91,
   "metadata": {},
   "outputs": [
    {
     "data": {
      "text/plain": [
       "285"
      ]
     },
     "execution_count": 91,
     "metadata": {},
     "output_type": "execute_result"
    }
   ],
   "source": [
    "# works without two sets of parens\n",
    "sum(x ** 2 for x in range(10))"
   ]
  },
  {
   "cell_type": "markdown",
   "metadata": {},
   "source": [
    "## Cool Iterators\n",
    "\n",
    "As promised, I'm going to close by showing off some cool things you can do with iterators.\n",
    "First, let's write as basic Fibonacci number iterator, since it's a programming classic."
   ]
  },
  {
   "cell_type": "code",
   "execution_count": 107,
   "metadata": {},
   "outputs": [
    {
     "data": {
      "text/plain": [
       "[0, 1, 1, 2, 3, 5, 8, 13, 21, 34]"
      ]
     },
     "execution_count": 107,
     "metadata": {},
     "output_type": "execute_result"
    }
   ],
   "source": [
    "def fib(n):\n",
    "    \"\"\"yields first n fibonacci numbers\"\"\"\n",
    "    a, b = 0, 1\n",
    "    for _ in range(n):\n",
    "        yield a\n",
    "        a, b = b, a + b\n",
    "        \n",
    "list(fib(10))"
   ]
  },
  {
   "cell_type": "markdown",
   "metadata": {},
   "source": [
    "Now, as a neat trick, let's create an infinite fibonacci number generator.\n",
    "Now we can get more and more fibonacci numbers whenever we ask for them, without having to decide in advance how many we need, which I think is conceptually nice.\n",
    "We'll need an extra function for actually extracting the values now."
   ]
  },
  {
   "cell_type": "code",
   "execution_count": 112,
   "metadata": {},
   "outputs": [
    {
     "name": "stdout",
     "output_type": "stream",
     "text": [
      "[0, 1, 1, 2, 3, 5, 8, 13, 21, 34]\n"
     ]
    }
   ],
   "source": [
    "def fib():\n",
    "    \"\"\"yields all the fibonacci numbers\"\"\"\n",
    "    a, b = 0, 1\n",
    "    while True:\n",
    "        yield a\n",
    "        a, b = b, a + b\n",
    "        \n",
    "def head(iterator, n):\n",
    "    i = 0\n",
    "    while i < n:\n",
    "        yield next(iterator)\n",
    "        i += 1\n",
    "        \n",
    "print(list(head(fib(), 10)))"
   ]
  },
  {
   "cell_type": "markdown",
   "metadata": {},
   "source": [
    "We can also make recursive, infinite generators.\n",
    "As always, deep recursion is not such a good idea in Python, since we'll eventually run out of recursion depth.\n",
    "But this stuff is pretty cool and mind-bending, so I wanted to show it off.\n",
    "If you want a language that handles this well, try Haskell."
   ]
  },
  {
   "cell_type": "code",
   "execution_count": 113,
   "metadata": {},
   "outputs": [
    {
     "data": {
      "text/plain": [
       "[1, 1, 1, 1, 1, 1, 1, 1, 1, 1]"
      ]
     },
     "execution_count": 113,
     "metadata": {},
     "output_type": "execute_result"
    }
   ],
   "source": [
    "def ones():\n",
    "    \"\"\"yields constant sequence of ones\"\"\"\n",
    "    yield 1\n",
    "    for elt in ones():\n",
    "        yield elt\n",
    "        \n",
    "list(head(ones(), 10))"
   ]
  },
  {
   "cell_type": "markdown",
   "metadata": {},
   "source": [
    "Above, we define an infinite sequence of 1s by saying that the first element is 1, and then the rest of the elements are the very sequence we're defining! Trippy, right?\n",
    "\n",
    "Also, Python has a nice shorcut for yielding from another iterator: `yield from`"
   ]
  },
  {
   "cell_type": "code",
   "execution_count": 115,
   "metadata": {},
   "outputs": [
    {
     "data": {
      "text/plain": [
       "[1, 1, 1, 1, 1, 1, 1, 1, 1, 1]"
      ]
     },
     "execution_count": 115,
     "metadata": {},
     "output_type": "execute_result"
    }
   ],
   "source": [
    "def ones():\n",
    "    \"\"\"yields constant sequence of ones\"\"\"\n",
    "    yield 1\n",
    "    yield from ones()\n",
    "    \n",
    "list(head(ones(), 10))"
   ]
  },
  {
   "cell_type": "markdown",
   "metadata": {},
   "source": [
    "Let's make a less trivial recursive generator.\n",
    "\n",
    "Below we make a natural number generator using the fact that the first natural number is zero,\n",
    "and the rest of the natural numbers are just the natural numbers + 1.\n",
    "I use a generator expression with `yield from` to streamline the code."
   ]
  },
  {
   "cell_type": "code",
   "execution_count": 116,
   "metadata": {},
   "outputs": [
    {
     "data": {
      "text/plain": [
       "[0, 1, 2, 3, 4, 5, 6, 7, 8, 9]"
      ]
     },
     "execution_count": 116,
     "metadata": {},
     "output_type": "execute_result"
    }
   ],
   "source": [
    "def nats():\n",
    "    \"\"\"yields the natural numbers 0, 1, 2, 3, ...\"\"\"\n",
    "    yield 0\n",
    "    yield from (i + 1 for i in nats())\n",
    "    \n",
    "list(head(nats(), 10))"
   ]
  },
  {
   "cell_type": "markdown",
   "metadata": {},
   "source": [
    "Now as our final trick, let's make a recursive infinite fibonacci number generator.\n",
    "\n",
    "The implementation is based on the following description of the fibonacci numbers:\n",
    "- The first two fibonacci numbers are 0 and 1.\n",
    "- Then, the fibonacci numbers from the third on are the sum of the fibonacci numbers and the tail of the fibonacci numbers,\n",
    "where the tail of a sequence is just the sequence with the first term dropped.\n",
    "\n",
    "In other words, element-wise addition of the fibonacci numbers and the the fibonacci numbers with the first element omitted\n",
    "gives the fibonacci numbers with the first two elements omitted.\n",
    "\n",
    "```\n",
    "   0, 1, 1, 2, 3, 5, 8,  ...\n",
    "+  1, 1, 2, 3, 5, 8, 13, ...\n",
    "____________________________\n",
    "=  1, 2, 3, 5, 8, 13, 21, ...\n",
    "```\n"
   ]
  },
  {
   "cell_type": "code",
   "execution_count": 117,
   "metadata": {},
   "outputs": [
    {
     "data": {
      "text/plain": [
       "[0, 1, 1, 2, 3, 5, 8, 13, 21, 34]"
      ]
     },
     "execution_count": 117,
     "metadata": {},
     "output_type": "execute_result"
    }
   ],
   "source": [
    "def tail(iterator):\n",
    "    next(iterator)\n",
    "    yield from iterator\n",
    "    \n",
    "def fib():\n",
    "    yield 0\n",
    "    yield 1\n",
    "    yield from (a + b for a, b in zip(fib(), tail(fib())))\n",
    "    \n",
    "list(head(fib(), 10))"
   ]
  },
  {
   "cell_type": "markdown",
   "metadata": {},
   "source": [
    "That's some beautiful and terse code, in my opinion. \n",
    "\n",
    "Unfortunately it is also some very slow code. Every time we reach the `yield from` line we spin up two more `fib()` generators. It has the same terrible exponential time complexity as a naive fibonacci implementation. \n",
    "\n",
    "Fortunately, we can do better. We don't need two whole copies of `fib()` for the `yield from` step. If we could somehow couple the two generators so that they both get their values from the same source, but just with one of them one step behind, then we could avoid the exponential blow up. The `tee` function from `itertools` does exactly this. It creates copies of an iterator which then all share the resources of the original iterator. Values produced by the iterator but not yet consumed by all the copies wait in a queue. Once every copy has advanced beyond a value, it is no longer stored. `tee` is perfect for our use case, since our copies will only ever be one value apart. If, however, we made copies of an iterator with `tee` and then one advanced through all the values, while the other hadn't advanced at all, then this would be space equivalent to just storing the iterator in a list to begin with. Thus, `tee` only helps when we expect there to be no badly 'lagging' copies.\n",
    "\n",
    "As a final modification, I'll also swap out the `zip` generator expression for a `map`, just to show another way to achieve the same thing and because it ends up being a litle bit shorter. By the way, `zip` and `map` both return iterators, which is the only way they could possibly work on these infinite iterators. I used to be annoyed that `zip` and `map` wouldn't just give me a list, but now I appreciate the power of iterators.\n",
    "\n",
    "Behold the terse elegance of our fast, infinite, recursive fibonacci generator!"
   ]
  },
  {
   "cell_type": "code",
   "execution_count": 118,
   "metadata": {},
   "outputs": [
    {
     "data": {
      "text/plain": [
       "[0, 1, 1, 2, 3, 5, 8, 13, 21, 34]"
      ]
     },
     "execution_count": 118,
     "metadata": {},
     "output_type": "execute_result"
    }
   ],
   "source": [
    "from operator import add\n",
    "\n",
    "def fib():\n",
    "    yield 0\n",
    "    yield 1\n",
    "    fib1, fib2 = it.tee(fib())\n",
    "    yield from map(add, fib1, tail(fib2))\n",
    "    \n",
    "list(head(fib(), 10))"
   ]
  },
  {
   "cell_type": "markdown",
   "metadata": {},
   "source": [
    "As a final note, this recursive fibonacci generator is still not as practical as the earlier iterative one, since this recursive one will evetually run into recursion depth problems.\n",
    "\n",
    "I hope this notebook has helped to resolve any confusion you might feel about iterables, iterators, and generators."
   ]
  }
 ],
 "metadata": {
  "kernelspec": {
   "display_name": "Python 3",
   "language": "python",
   "name": "python3"
  },
  "language_info": {
   "codemirror_mode": {
    "name": "ipython",
    "version": 3
   },
   "file_extension": ".py",
   "mimetype": "text/x-python",
   "name": "python",
   "nbconvert_exporter": "python",
   "pygments_lexer": "ipython3",
   "version": "3.7.1"
  }
 },
 "nbformat": 4,
 "nbformat_minor": 2
}
